{
 "cells": [
  {
   "cell_type": "code",
   "execution_count": 3,
   "id": "5fb9f541",
   "metadata": {},
   "outputs": [],
   "source": [
    "import requests\n",
    "from bs4 import BeautifulSoup, NavigableString, Comment\n",
    "import re\n",
    "from IPython.display import display, HTML"
   ]
  },
  {
   "cell_type": "code",
   "execution_count": 4,
   "id": "337a6722",
   "metadata": {},
   "outputs": [],
   "source": [
    "def extract_text_from_dom(soup):\n",
    "    # Define a function to filter visible tags\n",
    "    def tag_visible(element):\n",
    "        if isinstance(element, Comment):\n",
    "            return False\n",
    "        if element.parent.name in ['style', 'script', 'head', 'title', 'meta', '[document]']:\n",
    "            return False\n",
    "        return True if isinstance(element, NavigableString) else tag_visible(element.parent)\n",
    "\n",
    "    # Extract text from visible tags\n",
    "    texts = soup.findAll(text=True)\n",
    "    visible_texts = filter(tag_visible, texts)\n",
    "    visible_text = u\" \".join(t.strip() for t in visible_texts)\n",
    "\n",
    "    # Split text into sentences using regular expressions\n",
    "    sentences = re.split(r'(?<!\\w\\.\\w.)(?<![A-Z][a-z]\\.)(?<=\\.|\\?)\\s', visible_text)\n",
    "    return '\\n'.join(sentences)\n",
    "\n",
    "def extract_text_from_website(url, visited_urls=None):\n",
    "    # Initialize visited_urls as an empty set if it's not provided\n",
    "    if visited_urls is None:\n",
    "        visited_urls = set()\n",
    "\n",
    "    # Check if the URL has been visited to avoid infinite recursion\n",
    "    if url in visited_urls:\n",
    "        return \"\"\n",
    "\n",
    "    # Add the current URL to visited URLs\n",
    "    visited_urls.add(url)\n",
    "\n",
    "    try:\n",
    "        # Fetch the webpage content\n",
    "        response = requests.get(url)\n",
    "        response.raise_for_status()\n",
    "\n",
    "        # Parse the HTML content\n",
    "        soup = BeautifulSoup(response.content, 'html.parser')\n",
    "\n",
    "        # Extract text from the current page\n",
    "        extracted_text = extract_text_from_dom(soup)\n",
    "\n",
    "        # Find all links on the page\n",
    "        links = soup.find_all('a', href=True, text=True)\n",
    "\n",
    "        # Extract text from linked pages recursively\n",
    "        for link in links:\n",
    "            subpage_url = link['href']\n",
    "            if subpage_url.startswith('/') or subpage_url.startswith('.') or subpage_url.startswith('#'):\n",
    "                subpage_url = urljoin(url, subpage_url)\n",
    "            if subpage_url.startswith(url):\n",
    "                extracted_text += extract_text_from_website(subpage_url, visited_urls)\n",
    "\n",
    "        return extracted_text\n",
    "\n",
    "    except Exception as e:\n",
    "        print(f\"Error processing URL '{url}': {e}\")\n",
    "        return \"\"\n",
    "\n",
    "def display_text_in_new_tab(text):\n",
    "    html_content = f\"\"\"\n",
    "    <script type=\"text/javascript\">\n",
    "        var newWindow = window.open(\"\", \"_blank\");\n",
    "        newWindow.document.write(`<pre>{text}</pre>`);\n",
    "        newWindow.document.close();\n",
    "    </script>\n",
    "    \"\"\"\n",
    "    display(HTML(html_content))"
   ]
  },
  {
   "cell_type": "code",
   "execution_count": 5,
   "id": "80b62d84",
   "metadata": {},
   "outputs": [
    {
     "name": "stdout",
     "output_type": "stream",
     "text": [
      "Error processing URL 'https://medium.com/': name 'urljoin' is not defined\n"
     ]
    },
    {
     "data": {
      "text/html": [
       "\n",
       "    <script type=\"text/javascript\">\n",
       "        var newWindow = window.open(\"\", \"_blank\");\n",
       "        newWindow.document.write(`<pre></pre>`);\n",
       "        newWindow.document.close();\n",
       "    </script>\n",
       "    "
      ],
      "text/plain": [
       "<IPython.core.display.HTML object>"
      ]
     },
     "metadata": {},
     "output_type": "display_data"
    }
   ],
   "source": [
    "# Example usage\n",
    "url = \"https://medium.com/\"\n",
    "extracted_text = extract_text_from_website(url)\n",
    "display_text_in_new_tab(extracted_text)"
   ]
  },
  {
   "cell_type": "code",
   "execution_count": null,
   "id": "c8795518",
   "metadata": {},
   "outputs": [],
   "source": []
  }
 ],
 "metadata": {
  "kernelspec": {
   "display_name": "Python 3 (ipykernel)",
   "language": "python",
   "name": "python3"
  },
  "language_info": {
   "codemirror_mode": {
    "name": "ipython",
    "version": 3
   },
   "file_extension": ".py",
   "mimetype": "text/x-python",
   "name": "python",
   "nbconvert_exporter": "python",
   "pygments_lexer": "ipython3",
   "version": "3.9.12"
  }
 },
 "nbformat": 4,
 "nbformat_minor": 5
}
