{
 "cells": [
  {
   "cell_type": "code",
   "execution_count": 10,
   "id": "2d8f6663",
   "metadata": {},
   "outputs": [],
   "source": [
    "import requests\n",
    "import re\n",
    "from bs4 import BeautifulSoup\n",
    "from bs4.element import Comment\n",
    "from IPython.display import display, HTML"
   ]
  },
  {
   "cell_type": "code",
   "execution_count": 13,
   "id": "a2768e6b",
   "metadata": {},
   "outputs": [],
   "source": [
    "def tag_visible(element):\n",
    "    if element.parent.name in ['p','article','section','blockquote','abbr','address','code','pre','em','strong','span','a']:\n",
    "        return True\n",
    "    if isinstance(element, Comment):\n",
    "        return False\n",
    "    if element.name in ['nav', 'header', 'footer']:  # Ignore navbar, header, footer\n",
    "        return False\n",
    "    return False\n",
    "\n",
    "def text_from_html(body):\n",
    "    soup = BeautifulSoup(body, 'html.parser')\n",
    "    texts = soup.findAll(text=True)\n",
    "    visible_texts = filter(tag_visible, texts)\n",
    "    visible_text = u\" \".join(t.strip() for t in visible_texts)\n",
    "    \n",
    "    # Split text into sentences using regular expressions\n",
    "    sentences = re.split(r'(?<!\\w\\.\\w.)(?<![A-Z][a-z]\\.)(?<=\\.|\\?)\\s', visible_text)\n",
    "    return '\\n'.join(sentences)\n",
    "\n",
    "def extract_text(url):\n",
    "    # Fetch the webpage content\n",
    "    response = requests.get(url)\n",
    "    body = response.text\n",
    "    \n",
    "    # Extract visible text\n",
    "    text = text_from_html(body)\n",
    "    \n",
    "    return text\n",
    "\n",
    "def display_text_in_new_tab(text):\n",
    "    # Generate HTML for displaying the text in a new tab\n",
    "    html_content = f\"\"\"\n",
    "    <script type=\"text/javascript\">\n",
    "        var newWindow = window.open(\"\", \"_blank\");\n",
    "        newWindow.document.write(`<pre>{text}</pre>`);\n",
    "        newWindow.document.close();\n",
    "    </script>\n",
    "    \"\"\"\n",
    "    display(HTML(html_content))\n"
   ]
  },
  {
   "cell_type": "code",
   "execution_count": 12,
   "id": "80ff4221",
   "metadata": {},
   "outputs": [
    {
     "ename": "TypeError",
     "evalue": "isinstance expected 2 arguments, got 3",
     "output_type": "error",
     "traceback": [
      "\u001b[1;31m---------------------------------------------------------------------------\u001b[0m",
      "\u001b[1;31mTypeError\u001b[0m                                 Traceback (most recent call last)",
      "Input \u001b[1;32mIn [12]\u001b[0m, in \u001b[0;36m<cell line: 2>\u001b[1;34m()\u001b[0m\n\u001b[0;32m      1\u001b[0m url \u001b[38;5;241m=\u001b[39m \u001b[38;5;124m\"\u001b[39m\u001b[38;5;124mhttps://en.wikipedia.org/wiki/Olga_of_Kiev\u001b[39m\u001b[38;5;124m\"\u001b[39m\n\u001b[1;32m----> 2\u001b[0m extracted_text \u001b[38;5;241m=\u001b[39m \u001b[43mextract_text\u001b[49m\u001b[43m(\u001b[49m\u001b[43murl\u001b[49m\u001b[43m)\u001b[49m\n\u001b[0;32m      3\u001b[0m display_text_in_new_tab(extracted_text)\n",
      "Input \u001b[1;32mIn [11]\u001b[0m, in \u001b[0;36mextract_text\u001b[1;34m(url)\u001b[0m\n\u001b[0;32m     23\u001b[0m body \u001b[38;5;241m=\u001b[39m response\u001b[38;5;241m.\u001b[39mtext\n\u001b[0;32m     25\u001b[0m \u001b[38;5;66;03m# Extract visible text\u001b[39;00m\n\u001b[1;32m---> 26\u001b[0m text \u001b[38;5;241m=\u001b[39m \u001b[43mtext_from_html\u001b[49m\u001b[43m(\u001b[49m\u001b[43mbody\u001b[49m\u001b[43m)\u001b[49m\n\u001b[0;32m     28\u001b[0m \u001b[38;5;28;01mreturn\u001b[39;00m text\n",
      "Input \u001b[1;32mIn [11]\u001b[0m, in \u001b[0;36mtext_from_html\u001b[1;34m(body)\u001b[0m\n\u001b[0;32m     12\u001b[0m texts \u001b[38;5;241m=\u001b[39m soup\u001b[38;5;241m.\u001b[39mfindAll(text\u001b[38;5;241m=\u001b[39m\u001b[38;5;28;01mTrue\u001b[39;00m)\n\u001b[0;32m     13\u001b[0m visible_texts \u001b[38;5;241m=\u001b[39m \u001b[38;5;28mfilter\u001b[39m(tag_visible, texts)\n\u001b[1;32m---> 14\u001b[0m visible_text \u001b[38;5;241m=\u001b[39m \u001b[38;5;124;43mu\u001b[39;49m\u001b[38;5;124;43m\"\u001b[39;49m\u001b[38;5;124;43m \u001b[39;49m\u001b[38;5;124;43m\"\u001b[39;49m\u001b[38;5;241;43m.\u001b[39;49m\u001b[43mjoin\u001b[49m\u001b[43m(\u001b[49m\u001b[43mt\u001b[49m\u001b[38;5;241;43m.\u001b[39;49m\u001b[43mstrip\u001b[49m\u001b[43m(\u001b[49m\u001b[43m)\u001b[49m\u001b[43m \u001b[49m\u001b[38;5;28;43;01mfor\u001b[39;49;00m\u001b[43m \u001b[49m\u001b[43mt\u001b[49m\u001b[43m \u001b[49m\u001b[38;5;129;43;01min\u001b[39;49;00m\u001b[43m \u001b[49m\u001b[43mvisible_texts\u001b[49m\u001b[43m)\u001b[49m\n\u001b[0;32m     16\u001b[0m \u001b[38;5;66;03m# Split text into sentences using regular expressions\u001b[39;00m\n\u001b[0;32m     17\u001b[0m sentences \u001b[38;5;241m=\u001b[39m re\u001b[38;5;241m.\u001b[39msplit(\u001b[38;5;124mr\u001b[39m\u001b[38;5;124m'\u001b[39m\u001b[38;5;124m(?<!\u001b[39m\u001b[38;5;124m\\\u001b[39m\u001b[38;5;124mw\u001b[39m\u001b[38;5;124m\\\u001b[39m\u001b[38;5;124m.\u001b[39m\u001b[38;5;124m\\\u001b[39m\u001b[38;5;124mw.)(?<![A-Z][a-z]\u001b[39m\u001b[38;5;124m\\\u001b[39m\u001b[38;5;124m.)(?<=\u001b[39m\u001b[38;5;124m\\\u001b[39m\u001b[38;5;124m.|\u001b[39m\u001b[38;5;124m\\\u001b[39m\u001b[38;5;124m?)\u001b[39m\u001b[38;5;124m\\\u001b[39m\u001b[38;5;124ms\u001b[39m\u001b[38;5;124m'\u001b[39m, visible_text)\n",
      "Input \u001b[1;32mIn [11]\u001b[0m, in \u001b[0;36m<genexpr>\u001b[1;34m(.0)\u001b[0m\n\u001b[0;32m     12\u001b[0m texts \u001b[38;5;241m=\u001b[39m soup\u001b[38;5;241m.\u001b[39mfindAll(text\u001b[38;5;241m=\u001b[39m\u001b[38;5;28;01mTrue\u001b[39;00m)\n\u001b[0;32m     13\u001b[0m visible_texts \u001b[38;5;241m=\u001b[39m \u001b[38;5;28mfilter\u001b[39m(tag_visible, texts)\n\u001b[1;32m---> 14\u001b[0m visible_text \u001b[38;5;241m=\u001b[39m \u001b[38;5;124mu\u001b[39m\u001b[38;5;124m\"\u001b[39m\u001b[38;5;124m \u001b[39m\u001b[38;5;124m\"\u001b[39m\u001b[38;5;241m.\u001b[39mjoin(t\u001b[38;5;241m.\u001b[39mstrip() \u001b[38;5;28;01mfor\u001b[39;00m t \u001b[38;5;129;01min\u001b[39;00m visible_texts)\n\u001b[0;32m     16\u001b[0m \u001b[38;5;66;03m# Split text into sentences using regular expressions\u001b[39;00m\n\u001b[0;32m     17\u001b[0m sentences \u001b[38;5;241m=\u001b[39m re\u001b[38;5;241m.\u001b[39msplit(\u001b[38;5;124mr\u001b[39m\u001b[38;5;124m'\u001b[39m\u001b[38;5;124m(?<!\u001b[39m\u001b[38;5;124m\\\u001b[39m\u001b[38;5;124mw\u001b[39m\u001b[38;5;124m\\\u001b[39m\u001b[38;5;124m.\u001b[39m\u001b[38;5;124m\\\u001b[39m\u001b[38;5;124mw.)(?<![A-Z][a-z]\u001b[39m\u001b[38;5;124m\\\u001b[39m\u001b[38;5;124m.)(?<=\u001b[39m\u001b[38;5;124m\\\u001b[39m\u001b[38;5;124m.|\u001b[39m\u001b[38;5;124m\\\u001b[39m\u001b[38;5;124m?)\u001b[39m\u001b[38;5;124m\\\u001b[39m\u001b[38;5;124ms\u001b[39m\u001b[38;5;124m'\u001b[39m, visible_text)\n",
      "Input \u001b[1;32mIn [11]\u001b[0m, in \u001b[0;36mtag_visible\u001b[1;34m(element)\u001b[0m\n\u001b[0;32m      2\u001b[0m \u001b[38;5;28;01mif\u001b[39;00m element\u001b[38;5;241m.\u001b[39mparent\u001b[38;5;241m.\u001b[39mname \u001b[38;5;129;01min\u001b[39;00m [\u001b[38;5;124m'\u001b[39m\u001b[38;5;124mp\u001b[39m\u001b[38;5;124m'\u001b[39m,\u001b[38;5;124m'\u001b[39m\u001b[38;5;124marticle\u001b[39m\u001b[38;5;124m'\u001b[39m,\u001b[38;5;124m'\u001b[39m\u001b[38;5;124msection\u001b[39m\u001b[38;5;124m'\u001b[39m,\u001b[38;5;124m'\u001b[39m\u001b[38;5;124mblockquote\u001b[39m\u001b[38;5;124m'\u001b[39m,\u001b[38;5;124m'\u001b[39m\u001b[38;5;124mabbr\u001b[39m\u001b[38;5;124m'\u001b[39m,\u001b[38;5;124m'\u001b[39m\u001b[38;5;124maddress\u001b[39m\u001b[38;5;124m'\u001b[39m,\u001b[38;5;124m'\u001b[39m\u001b[38;5;124mcode\u001b[39m\u001b[38;5;124m'\u001b[39m,\u001b[38;5;124m'\u001b[39m\u001b[38;5;124mpre\u001b[39m\u001b[38;5;124m'\u001b[39m,\u001b[38;5;124m'\u001b[39m\u001b[38;5;124mem\u001b[39m\u001b[38;5;124m'\u001b[39m,\u001b[38;5;124m'\u001b[39m\u001b[38;5;124mstrong\u001b[39m\u001b[38;5;124m'\u001b[39m,\u001b[38;5;124m'\u001b[39m\u001b[38;5;124mspan\u001b[39m\u001b[38;5;124m'\u001b[39m,\u001b[38;5;124m'\u001b[39m\u001b[38;5;124ma\u001b[39m\u001b[38;5;124m'\u001b[39m]:\n\u001b[0;32m      3\u001b[0m     \u001b[38;5;28;01mreturn\u001b[39;00m \u001b[38;5;28;01mTrue\u001b[39;00m\n\u001b[1;32m----> 4\u001b[0m \u001b[38;5;28;01mif\u001b[39;00m \u001b[38;5;28;43misinstance\u001b[39;49m\u001b[43m(\u001b[49m\u001b[43melement\u001b[49m\u001b[43m,\u001b[49m\u001b[43m \u001b[49m\u001b[43mComment\u001b[49m\u001b[43m,\u001b[49m\u001b[43m \u001b[49m\u001b[43mNavigableString\u001b[49m\u001b[43m)\u001b[49m:\n\u001b[0;32m      5\u001b[0m     \u001b[38;5;28;01mreturn\u001b[39;00m \u001b[38;5;28;01mFalse\u001b[39;00m\n\u001b[0;32m      6\u001b[0m \u001b[38;5;28;01mif\u001b[39;00m element\u001b[38;5;241m.\u001b[39mname \u001b[38;5;129;01min\u001b[39;00m [\u001b[38;5;124m'\u001b[39m\u001b[38;5;124mnav\u001b[39m\u001b[38;5;124m'\u001b[39m, \u001b[38;5;124m'\u001b[39m\u001b[38;5;124mheader\u001b[39m\u001b[38;5;124m'\u001b[39m, \u001b[38;5;124m'\u001b[39m\u001b[38;5;124mfooter\u001b[39m\u001b[38;5;124m'\u001b[39m]:  \u001b[38;5;66;03m# Ignore navbar, header, footer\u001b[39;00m\n",
      "\u001b[1;31mTypeError\u001b[0m: isinstance expected 2 arguments, got 3"
     ]
    }
   ],
   "source": [
    "url = \"https://en.wikipedia.org/wiki/Olga_of_Kiev\"\n",
    "extracted_text = extract_text(url)\n",
    "display_text_in_new_tab(extracted_text)"
   ]
  },
  {
   "cell_type": "code",
   "execution_count": null,
   "id": "705a2622",
   "metadata": {},
   "outputs": [],
   "source": []
  }
 ],
 "metadata": {
  "kernelspec": {
   "display_name": "Python 3 (ipykernel)",
   "language": "python",
   "name": "python3"
  },
  "language_info": {
   "codemirror_mode": {
    "name": "ipython",
    "version": 3
   },
   "file_extension": ".py",
   "mimetype": "text/x-python",
   "name": "python",
   "nbconvert_exporter": "python",
   "pygments_lexer": "ipython3",
   "version": "3.9.12"
  }
 },
 "nbformat": 4,
 "nbformat_minor": 5
}
