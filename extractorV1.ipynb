{
 "cells": [
  {
   "cell_type": "code",
   "execution_count": 1,
   "id": "8fe3e8fe",
   "metadata": {},
   "outputs": [],
   "source": [
    "import requests\n",
    "import re\n",
    "from bs4 import BeautifulSoup\n",
    "from bs4.element import Comment\n",
    "from IPython.display import display, HTML"
   ]
  },
  {
   "cell_type": "code",
   "execution_count": 2,
   "id": "77f7deb8",
   "metadata": {},
   "outputs": [],
   "source": [
    "def tag_visible(element):\n",
    "    if element.parent.name in ['style', 'script', 'head', 'title', 'meta', '[document]', 'header']:\n",
    "        return False\n",
    "    if isinstance(element, Comment):\n",
    "        return False\n",
    "    if element.name == 'nav':  # Ignore navbar\n",
    "        return False\n",
    "    if element.name == 'header':  # Ignore header\n",
    "        return False\n",
    "    if element.name == 'footer':  # Ignore footer\n",
    "        return False\n",
    "    return True\n",
    "\n",
    "def text_from_html(body):\n",
    "    soup = BeautifulSoup(body, 'html.parser')\n",
    "    texts = soup.findAll(text=True)\n",
    "    visible_texts = filter(tag_visible, texts)\n",
    "    visible_text = u\" \".join(t.strip() for t in visible_texts)\n",
    "    \n",
    "    # Split text into sentences using regular expressions\n",
    "    sentences = re.split(r'(?<!\\w\\.\\w.)(?<![A-Z][a-z]\\.)(?<=\\.|\\?)\\s', visible_text)\n",
    "    return '\\n'.join(sentences)\n",
    "\n",
    "def extract_text(url):\n",
    "    # Fetch the webpage content\n",
    "    response = requests.get(url)\n",
    "    body = response.text\n",
    "    \n",
    "    # Extract visible text\n",
    "    text = text_from_html(body)\n",
    "    \n",
    "    return text\n",
    "\n",
    "def display_text_in_new_tab(text):\n",
    "    # Generate HTML for displaying the text in a new tab\n",
    "    html_content = f\"\"\"\n",
    "    <script type=\"text/javascript\">\n",
    "        var newWindow = window.open(\"\", \"_blank\");\n",
    "        newWindow.document.write(`<pre>{text}</pre>`);\n",
    "        newWindow.document.close();\n",
    "    </script>\n",
    "    \"\"\"\n",
    "    display(HTML(html_content))\n"
   ]
  },
  {
   "cell_type": "code",
   "execution_count": 4,
   "id": "f69f021c",
   "metadata": {},
   "outputs": [
    {
     "data": {
      "text/html": [
       "\n",
       "    <script type=\"text/javascript\">\n",
       "        var newWindow = window.open(\"\", \"_blank\");\n",
       "        newWindow.document.write(`<pre>          Upcoming 2024 Games Overwatch 2 Cowboy Bebop Skins The Batman 2 Delay Final Fantasy 7 Rebirth Guides Fortnite Season 2 Battle Pass New In Fortnite Season 2 All Games Videos Articles Reviews Features Galleries Users News Videos Reviews Games Entertainment Staff Picks Best Nintendo Switch Games Best PS5 Games Best Xbox Series X Games Best Xbox Game Pass Games Best PC Games Best Steam Deck Games Deals Game Deals Tech Deals Gift Ideas GameSpot Store Games GameStop Gift Guide PC Gaming PS5 PS4 Xbox Series X Xbox One Switch All Gaming News Guides Gaming Tech Mobile Gaming Cloud Gaming Entertainment Movies TV Wrestling Star Wars Marvel DC Game of Thrones All Entertainment News Forums More Games GameStop Gift Guide PC Gaming PS5 PS4 Xbox Series X Xbox One Switch All Gaming News Guides Gaming Tech Mobile Gaming Cloud Gaming Entertainment Movies TV Wrestling Star Wars Marvel DC Game of Thrones All Entertainment News Forums All Games Videos Articles Reviews Features Galleries Users          GameSpot may receive revenue from affiliate and advertising partnerships for sharing this content and from purchases through links.\n",
       "   The Batman 2 Delayed To 2026 Get comfortable.\n",
       "By Eddie Makuch on March 12, 2024 at 11:29AM PDT 16 Comments        The Batman 2 has been delayed by a year.\n",
       "The Robert Pattinson-led sequel is now slated for release on October 2, 2026.\n",
       "The movie was originally pegged for October 2025.\n",
       "Warner Bros.\n",
       "announced the shift on Tuesday, according to The Hollywood Reporter , but did not offer an explanation for the push.\n",
       "The Batman, directed by Matt Reeves, premiered in March 2022 and earned more than $770 million worldwide.\n",
       "In addition to Pattinson as Batman, the movie starred Paul Dano as The Riddler and Colin Farrell as Penguin.\n",
       "Zoe Kravitz played Catwoman, Andy Serkis suited up as Alfred, and Jeffrey Wright portrayed Commissioner Gordon.\n",
       "Barry Keoghan played Joker at the end of the film, presumably teeing up a bigger role in the sequel (though this is unconfirmed at this stage).\n",
       "While fans will have to wait a while longer for The Batman 2, the spin-off series The Penguin with Farrell back in the role debuts later this year on Max.\n",
       "Additionally, Joker 2 with Joaquin Phoenix and Lady Gaga is set for release in theaters this October.\n",
       "The Batman 2 is being produced under the new DC Studios co-leadership of James Gunn and Peter Safran.\n",
       "Unlike some of the other DC movie franchises that started before they took over in 2022 , The Batman with Reeves and Pattinson is continuing.\n",
       "GameSpot's The Batman review scored it a 6/10.\n",
       "Reviewer Mason Downey wrote, \"This is a Gotham that is both familiar and new, grounded and somehow completely bizarre.\n",
       "If The Batman has one major masterstroke that should be replicated in future live-action adaptations, this is it.\" The Batman: All The Clues And Easter Eggs That Point To Batman 2 See More       Got a news tip or want to contact us directly?\n",
       "Email news@gamespot.com  Upvote (2) Leave Blank View Comments (16)  DC Universe         Join the conversation  There are 16 comments about this story   Load Comments (16)              © 2024 FANDOM, INC.\n",
       "ALL RIGHTS RESERVED.\n",
       "Privacy Policy Cookie Settings Terms of Use Help Partnerships Careers More Sites giantbomb.com gamefaqs.com metacritic.com fandom.com fanatical.com Reviews Latest Reviews PC PS4 Xbox One Switch News Latest News PC PS5 Xbox Series X PS4 Xbox One Switch Shows Expert Reacts Firearms Expert Reacts No HUD Spot On The Kurt Locker Talk to Us Forums GameSpot GameSpot Entertainment   Use your keyboard! ESC Log in to comment         Close   </pre>`);\n",
       "        newWindow.document.close();\n",
       "    </script>\n",
       "    "
      ],
      "text/plain": [
       "<IPython.core.display.HTML object>"
      ]
     },
     "metadata": {},
     "output_type": "display_data"
    }
   ],
   "source": [
    "url = \"https://www.gamespot.com/articles/the-batman-2-delayed-to-2026/1100-6521796/\"\n",
    "extracted_text = extract_text(url)\n",
    "display_text_in_new_tab(extracted_text)"
   ]
  },
  {
   "cell_type": "code",
   "execution_count": null,
   "id": "e7b204af",
   "metadata": {},
   "outputs": [],
   "source": []
  }
 ],
 "metadata": {
  "kernelspec": {
   "display_name": "Python 3 (ipykernel)",
   "language": "python",
   "name": "python3"
  },
  "language_info": {
   "codemirror_mode": {
    "name": "ipython",
    "version": 3
   },
   "file_extension": ".py",
   "mimetype": "text/x-python",
   "name": "python",
   "nbconvert_exporter": "python",
   "pygments_lexer": "ipython3",
   "version": "3.9.12"
  }
 },
 "nbformat": 4,
 "nbformat_minor": 5
}
